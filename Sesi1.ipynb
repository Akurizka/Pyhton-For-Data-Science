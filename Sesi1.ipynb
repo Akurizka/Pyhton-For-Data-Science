{
 "cells": [
  {
   "cell_type": "markdown",
   "id": "f56c755c",
   "metadata": {},
   "source": [
    "# Integer = Bilangan Bulat\n"
   ]
  },
  {
   "cell_type": "code",
   "execution_count": 1,
   "id": "1b2e6c58",
   "metadata": {},
   "outputs": [
    {
     "name": "stdout",
     "output_type": "stream",
     "text": [
      "1000000000000\n"
     ]
    }
   ],
   "source": [
    "print(1000000000000)"
   ]
  },
  {
   "cell_type": "code",
   "execution_count": null,
   "id": "1d829965",
   "metadata": {},
   "outputs": [],
   "source": []
  },
  {
   "cell_type": "code",
   "execution_count": 2,
   "id": "66e63aa8",
   "metadata": {},
   "outputs": [
    {
     "name": "stdout",
     "output_type": "stream",
     "text": [
      "<class 'int'>\n"
     ]
    }
   ],
   "source": [
    "print(type(3))"
   ]
  },
  {
   "cell_type": "markdown",
   "id": "4edb3bf1",
   "metadata": {},
   "source": [
    "# Float"
   ]
  },
  {
   "cell_type": "code",
   "execution_count": 3,
   "id": "b50b811a",
   "metadata": {},
   "outputs": [
    {
     "name": "stdout",
     "output_type": "stream",
     "text": [
      "3.5\n",
      "2.3\n"
     ]
    }
   ],
   "source": [
    "print(3.5)\n",
    "print(2.3)"
   ]
  },
  {
   "cell_type": "code",
   "execution_count": 4,
   "id": "4fb51b81",
   "metadata": {},
   "outputs": [
    {
     "name": "stdout",
     "output_type": "stream",
     "text": [
      "<class 'float'>\n"
     ]
    }
   ],
   "source": [
    "print(type(2.3))"
   ]
  },
  {
   "cell_type": "code",
   "execution_count": 5,
   "id": "60cac742",
   "metadata": {},
   "outputs": [
    {
     "name": "stdout",
     "output_type": "stream",
     "text": [
      "0.00042\n"
     ]
    }
   ],
   "source": [
    "print(4.2e-4)"
   ]
  },
  {
   "cell_type": "code",
   "execution_count": 6,
   "id": "fced5752",
   "metadata": {},
   "outputs": [
    {
     "name": "stdout",
     "output_type": "stream",
     "text": [
      "<class 'float'>\n"
     ]
    }
   ],
   "source": [
    "print(type(4.2e7))"
   ]
  },
  {
   "cell_type": "markdown",
   "id": "80b9de6d",
   "metadata": {},
   "source": [
    "# String"
   ]
  },
  {
   "cell_type": "code",
   "execution_count": 7,
   "id": "0c047867",
   "metadata": {},
   "outputs": [
    {
     "name": "stdout",
     "output_type": "stream",
     "text": [
      "Nama Saya adalah Rizka\n"
     ]
    }
   ],
   "source": [
    "print(\"Nama Saya adalah \")"
   ]
  },
  {
   "cell_type": "code",
   "execution_count": 8,
   "id": "2838f56a",
   "metadata": {},
   "outputs": [
    {
     "name": "stdout",
     "output_type": "stream",
     "text": [
      "<class 'str'>\n"
     ]
    }
   ],
   "source": [
    "print(type('Budi bermain bola'))"
   ]
  },
  {
   "cell_type": "markdown",
   "id": "8944a296",
   "metadata": {},
   "source": [
    "# Boolean\n"
   ]
  },
  {
   "cell_type": "code",
   "execution_count": 9,
   "id": "fbdd72b5",
   "metadata": {},
   "outputs": [
    {
     "data": {
      "text/plain": [
       "False"
      ]
     },
     "execution_count": 9,
     "metadata": {},
     "output_type": "execute_result"
    }
   ],
   "source": [
    "True\n",
    "False"
   ]
  },
  {
   "cell_type": "code",
   "execution_count": null,
   "id": "4e0a4c0f",
   "metadata": {},
   "outputs": [],
   "source": []
  },
  {
   "cell_type": "code",
   "execution_count": 10,
   "id": "1e3da037",
   "metadata": {},
   "outputs": [
    {
     "name": "stdout",
     "output_type": "stream",
     "text": [
      "True\n"
     ]
    }
   ],
   "source": [
    "print(True)"
   ]
  },
  {
   "cell_type": "code",
   "execution_count": 11,
   "id": "edc426c2",
   "metadata": {},
   "outputs": [
    {
     "name": "stdout",
     "output_type": "stream",
     "text": [
      "<class 'bool'>\n"
     ]
    }
   ],
   "source": [
    "print(type(True))"
   ]
  },
  {
   "cell_type": "markdown",
   "id": "bc9057d0",
   "metadata": {},
   "source": [
    "Ada 4 data types yang paling sering digunakan\"\n",
    "\n",
    "Integer\n",
    "Float\n",
    "String\n",
    "Boolean"
   ]
  },
  {
   "cell_type": "markdown",
   "id": "b56ef913",
   "metadata": {},
   "source": [
    "# Variable Assignment"
   ]
  },
  {
   "cell_type": "code",
   "execution_count": 12,
   "id": "34f594ae",
   "metadata": {},
   "outputs": [
    {
     "name": "stdout",
     "output_type": "stream",
     "text": [
      "300\n",
      "<class 'int'>\n",
      "<class 'int'>\n"
     ]
    }
   ],
   "source": [
    "angka = 300\n",
    "print(angka)\n",
    "print(type(angka))\n",
    "print(type(300))"
   ]
  },
  {
   "cell_type": "code",
   "execution_count": 13,
   "id": "928247e9",
   "metadata": {},
   "outputs": [
    {
     "name": "stdout",
     "output_type": "stream",
     "text": [
      "haha\n",
      "<class 'str'>\n"
     ]
    }
   ],
   "source": [
    "teks = 'haha'\n",
    "print(teks)\n",
    "print(type(teks))"
   ]
  },
  {
   "cell_type": "code",
   "execution_count": 14,
   "id": "42e1a9fc",
   "metadata": {},
   "outputs": [
    {
     "name": "stdout",
     "output_type": "stream",
     "text": [
      "300 300 300\n"
     ]
    }
   ],
   "source": [
    "a = b = c = 300\n",
    "print(a,b,c)"
   ]
  },
  {
   "cell_type": "code",
   "execution_count": 15,
   "id": "ace3ea67",
   "metadata": {},
   "outputs": [
    {
     "name": "stdout",
     "output_type": "stream",
     "text": [
      "<class 'int'>\n"
     ]
    }
   ],
   "source": [
    "print(type(b))"
   ]
  },
  {
   "cell_type": "code",
   "execution_count": null,
   "id": "755dfcfd",
   "metadata": {},
   "outputs": [],
   "source": []
  },
  {
   "cell_type": "code",
   "execution_count": 16,
   "id": "12975df7",
   "metadata": {},
   "outputs": [],
   "source": [
    "rumah = 'Bekasi'\n",
    "Rumah = 'Jakarta'"
   ]
  },
  {
   "cell_type": "code",
   "execution_count": 17,
   "id": "094502fb",
   "metadata": {},
   "outputs": [
    {
     "name": "stdout",
     "output_type": "stream",
     "text": [
      "Bekasi Jakarta\n"
     ]
    }
   ],
   "source": [
    "print(rumah, Rumah)"
   ]
  },
  {
   "cell_type": "markdown",
   "id": "5ee32516",
   "metadata": {},
   "source": [
    "ctrl + / untuk comment"
   ]
  },
  {
   "cell_type": "code",
   "execution_count": 18,
   "id": "60d1479e",
   "metadata": {},
   "outputs": [],
   "source": [
    "# Nama variabel tidak diperbolehkan dimulai dengan angka\n",
    "# 0_Rumah='a'"
   ]
  },
  {
   "cell_type": "code",
   "execution_count": 19,
   "id": "fd6f48db",
   "metadata": {},
   "outputs": [],
   "source": [
    "# rumah = 'budi'"
   ]
  },
  {
   "cell_type": "code",
   "execution_count": 20,
   "id": "ef79a01f",
   "metadata": {},
   "outputs": [
    {
     "name": "stdout",
     "output_type": "stream",
     "text": [
      "Bekasi\n"
     ]
    }
   ],
   "source": [
    "print(rumah)"
   ]
  },
  {
   "cell_type": "markdown",
   "id": "c2624ab6",
   "metadata": {},
   "source": [
    "# Arithmetic Operators"
   ]
  },
  {
   "cell_type": "code",
   "execution_count": 21,
   "id": "39509198",
   "metadata": {},
   "outputs": [
    {
     "name": "stdout",
     "output_type": "stream",
     "text": [
      "30\n"
     ]
    }
   ],
   "source": [
    "a = 10\n",
    "b = 20\n",
    "print(a+b)"
   ]
  },
  {
   "cell_type": "code",
   "execution_count": null,
   "id": "482ea27f",
   "metadata": {},
   "outputs": [],
   "source": []
  },
  {
   "cell_type": "code",
   "execution_count": 22,
   "id": "a141882c",
   "metadata": {},
   "outputs": [
    {
     "name": "stdout",
     "output_type": "stream",
     "text": [
      "-10\n"
     ]
    }
   ],
   "source": [
    "# Pengurangan\n",
    "print(a-b)"
   ]
  },
  {
   "cell_type": "code",
   "execution_count": 23,
   "id": "78192224",
   "metadata": {},
   "outputs": [
    {
     "name": "stdout",
     "output_type": "stream",
     "text": [
      "200\n"
     ]
    }
   ],
   "source": [
    "# Perkalian\n",
    "print(a*b)"
   ]
  },
  {
   "cell_type": "code",
   "execution_count": 24,
   "id": "95228d7d",
   "metadata": {},
   "outputs": [
    {
     "name": "stdout",
     "output_type": "stream",
     "text": [
      "0.5\n",
      "0\n",
      "1.5\n",
      "1\n",
      "<class 'float'>\n",
      "<class 'int'>\n"
     ]
    }
   ],
   "source": [
    "# Pembagian\n",
    "print(a/b)\n",
    "print(a//b)\n",
    "print(3/2)\n",
    "print(3//2)\n",
    "print(type(3/2))\n",
    "print(type(3//2))"
   ]
  },
  {
   "cell_type": "code",
   "execution_count": 25,
   "id": "bd04f7da",
   "metadata": {},
   "outputs": [
    {
     "name": "stdout",
     "output_type": "stream",
     "text": [
      "3.5\n",
      "1\n",
      "1\n",
      "0\n"
     ]
    }
   ],
   "source": [
    "# Modulo (%)\n",
    "print(7/2)\n",
    "print(7%2)\n",
    "print(11%2)\n",
    "print(10%2)"
   ]
  },
  {
   "cell_type": "code",
   "execution_count": null,
   "id": "7c62fed9",
   "metadata": {},
   "outputs": [],
   "source": []
  },
  {
   "cell_type": "code",
   "execution_count": 26,
   "id": "481bd666",
   "metadata": {},
   "outputs": [
    {
     "name": "stdout",
     "output_type": "stream",
     "text": [
      "49\n",
      "4\n"
     ]
    }
   ],
   "source": [
    "# Pangkat (**)\n",
    "print(7**2)\n",
    "print(2**2)"
   ]
  },
  {
   "cell_type": "markdown",
   "id": "0ffe7582",
   "metadata": {},
   "source": [
    "# Quiz 1 Mengubah Celcius ke Fahrenheit"
   ]
  },
  {
   "cell_type": "code",
   "execution_count": 28,
   "id": "27d16907",
   "metadata": {},
   "outputs": [
    {
     "name": "stdout",
     "output_type": "stream",
     "text": [
      "48.66666666666667\n"
     ]
    }
   ],
   "source": [
    "a = 30\n",
    "f = a * (5/9) + 32\n",
    "print(f)"
   ]
  },
  {
   "cell_type": "markdown",
   "id": "4bc3da57",
   "metadata": {},
   "source": [
    "# Comparison Operators"
   ]
  },
  {
   "cell_type": "code",
   "execution_count": 29,
   "id": "ca3d2ebe",
   "metadata": {},
   "outputs": [],
   "source": [
    "c = 10\n",
    "d = 30\n",
    "e = 10\n",
    "f = 20"
   ]
  },
  {
   "cell_type": "code",
   "execution_count": 30,
   "id": "bfb4221e",
   "metadata": {},
   "outputs": [],
   "source": [
    "rumah1= 'bekasi'\n",
    "rumah2 = 'jakarta'\n",
    "rumah3='jakarta'"
   ]
  },
  {
   "cell_type": "code",
   "execution_count": 31,
   "id": "cad5ed0c",
   "metadata": {},
   "outputs": [
    {
     "name": "stdout",
     "output_type": "stream",
     "text": [
      "False\n",
      "True\n",
      "True\n"
     ]
    }
   ],
   "source": [
    "# Persamaan (==)\n",
    "print(c==d)\n",
    "print(c==e)\n",
    "print(rumah2==rumah3)"
   ]
  },
  {
   "cell_type": "code",
   "execution_count": 32,
   "id": "50b29923",
   "metadata": {},
   "outputs": [
    {
     "name": "stdout",
     "output_type": "stream",
     "text": [
      "False\n",
      "True\n",
      "False\n",
      "True\n",
      "True\n",
      "True\n"
     ]
    }
   ],
   "source": [
    "# Lebih dari atau kurang dari\n",
    "print(c>d)\n",
    "print(c<d)\n",
    "print(c>=d)\n",
    "print(c<=d)\n",
    "print(c<=e)\n",
    "print(c>=e)"
   ]
  },
  {
   "cell_type": "code",
   "execution_count": 33,
   "id": "c5414f2b",
   "metadata": {},
   "outputs": [
    {
     "name": "stdout",
     "output_type": "stream",
     "text": [
      "True\n",
      "False\n",
      "True\n"
     ]
    }
   ],
   "source": [
    "# TIdak sama dengan / Not Equal (!=)\n",
    "print(c!=d)\n",
    "print(c!=e)\n",
    "print(rumah1!=rumah2)"
   ]
  },
  {
   "cell_type": "markdown",
   "id": "2b63a75e",
   "metadata": {},
   "source": [
    "# String Manipulation"
   ]
  },
  {
   "cell_type": "code",
   "execution_count": 34,
   "id": "cad884a6",
   "metadata": {},
   "outputs": [
    {
     "name": "stdout",
     "output_type": "stream",
     "text": [
      "barfoo\n",
      "foobarbaz\n"
     ]
    }
   ],
   "source": [
    "# Operator +\n",
    "s = 'foo'\n",
    "t = 'bar'\n",
    "u = 'baz'\n",
    "\n",
    "print(t+s)\n",
    "\n",
    "print(s+t+u)"
   ]
  },
  {
   "cell_type": "code",
   "execution_count": 35,
   "id": "b76d760b",
   "metadata": {},
   "outputs": [
    {
     "name": "stdout",
     "output_type": "stream",
     "text": [
      "foofoofoofoofoofoofoofoofoofoo\n"
     ]
    }
   ],
   "source": [
    "# Operator *\n",
    "print(s*10)"
   ]
  },
  {
   "cell_type": "code",
   "execution_count": 36,
   "id": "47d05fd5",
   "metadata": {},
   "outputs": [
    {
     "name": "stdout",
     "output_type": "stream",
     "text": [
      "True\n",
      "False\n"
     ]
    }
   ],
   "source": [
    "# Operator in\n",
    "a='buah'\n",
    "print(a in 'Saya mau beli buah')\n",
    "print(a in 'Saya mau beli singkong')"
   ]
  },
  {
   "cell_type": "code",
   "execution_count": 37,
   "id": "587686d0",
   "metadata": {},
   "outputs": [
    {
     "name": "stdout",
     "output_type": "stream",
     "text": [
      "buah\n"
     ]
    }
   ],
   "source": [
    "b = 'BUAH'\n",
    "print(b.lower())"
   ]
  },
  {
   "cell_type": "code",
   "execution_count": 38,
   "id": "1e566c68",
   "metadata": {},
   "outputs": [
    {
     "name": "stdout",
     "output_type": "stream",
     "text": [
      "Sayac\n"
     ]
    }
   ],
   "source": [
    "c = 'sAyAc'\n",
    "print(c.capitalize())"
   ]
  },
  {
   "cell_type": "code",
   "execution_count": 39,
   "id": "4291105d",
   "metadata": {},
   "outputs": [
    {
     "name": "stdout",
     "output_type": "stream",
     "text": [
      "Saya mau makan\n",
      "Saya Mau Makan\n",
      "saYA MaU mAKAN\n"
     ]
    }
   ],
   "source": [
    "d = 'SAya mAu Makan'\n",
    "print(d.capitalize())\n",
    "print(d.title())\n",
    "print(d.swapcase())"
   ]
  },
  {
   "cell_type": "markdown",
   "id": "5e68df99",
   "metadata": {},
   "source": [
    "# Python Lists"
   ]
  },
  {
   "cell_type": "code",
   "execution_count": 40,
   "id": "b869f58b",
   "metadata": {},
   "outputs": [],
   "source": [
    "a = ['saya','mau','makan']\n",
    "c = ['makan','mau','saya']"
   ]
  },
  {
   "cell_type": "code",
   "execution_count": 41,
   "id": "d4f2707d",
   "metadata": {},
   "outputs": [
    {
     "name": "stdout",
     "output_type": "stream",
     "text": [
      "['saya', 'mau', 'makan']\n"
     ]
    }
   ],
   "source": [
    "print(a)"
   ]
  },
  {
   "cell_type": "code",
   "execution_count": 42,
   "id": "7957700e",
   "metadata": {},
   "outputs": [
    {
     "name": "stdout",
     "output_type": "stream",
     "text": [
      "['makan', 'mau', 'saya']\n"
     ]
    }
   ],
   "source": [
    "print(c)"
   ]
  },
  {
   "cell_type": "code",
   "execution_count": 43,
   "id": "c5b6051f",
   "metadata": {},
   "outputs": [
    {
     "name": "stdout",
     "output_type": "stream",
     "text": [
      "['saya', 1, True, 3.7]\n"
     ]
    }
   ],
   "source": [
    "b = ['saya',1,True,3.7]\n",
    "print(b)"
   ]
  },
  {
   "cell_type": "code",
   "execution_count": 44,
   "id": "43c4f467",
   "metadata": {},
   "outputs": [
    {
     "name": "stdout",
     "output_type": "stream",
     "text": [
      "False\n"
     ]
    }
   ],
   "source": [
    "print(a==c)"
   ]
  },
  {
   "cell_type": "markdown",
   "id": "af7485f1",
   "metadata": {},
   "source": [
    "# Indexing dan Slicing"
   ]
  },
  {
   "cell_type": "code",
   "execution_count": 45,
   "id": "63d675eb",
   "metadata": {},
   "outputs": [
    {
     "name": "stdout",
     "output_type": "stream",
     "text": [
      "['foo', 'bar', 'baz', 'qux', 'quux', 'corge']\n"
     ]
    }
   ],
   "source": [
    "# List can be accessed by Index\n",
    "a = ['foo','bar','baz','qux','quux','corge']\n",
    "print(a)"
   ]
  },
  {
   "cell_type": "code",
   "execution_count": 46,
   "id": "70b28f25",
   "metadata": {},
   "outputs": [
    {
     "name": "stdout",
     "output_type": "stream",
     "text": [
      "foo\n",
      "qux\n"
     ]
    }
   ],
   "source": [
    "# Indexing\n",
    "print(a[0])\n",
    "print(a[3])"
   ]
  },
  {
   "cell_type": "code",
   "execution_count": 47,
   "id": "5d88fd5d",
   "metadata": {},
   "outputs": [
    {
     "name": "stdout",
     "output_type": "stream",
     "text": [
      "foo\n"
     ]
    }
   ],
   "source": [
    "print(a[-6])"
   ]
  },
  {
   "cell_type": "code",
   "execution_count": 48,
   "id": "5928de14",
   "metadata": {},
   "outputs": [
    {
     "name": "stdout",
     "output_type": "stream",
     "text": [
      "True\n"
     ]
    }
   ],
   "source": [
    "print(a[-6]==a[0])"
   ]
  },
  {
   "cell_type": "code",
   "execution_count": 49,
   "id": "c4502b2a",
   "metadata": {},
   "outputs": [
    {
     "name": "stdout",
     "output_type": "stream",
     "text": [
      "i\n"
     ]
    }
   ],
   "source": [
    "x = 'budi'\n",
    "print(x[-1])"
   ]
  },
  {
   "cell_type": "markdown",
   "id": "1b622ed2",
   "metadata": {},
   "source": [
    "# Prinsip Slicing = [start:stop:step]"
   ]
  },
  {
   "cell_type": "code",
   "execution_count": 50,
   "id": "b3177e90",
   "metadata": {},
   "outputs": [
    {
     "name": "stdout",
     "output_type": "stream",
     "text": [
      "['foo', 'bar', 'baz', 'qux', 'quux', 'corge']\n",
      "['bar', 'baz', 'qux', 'quux', 'corge']\n"
     ]
    }
   ],
   "source": [
    "# Slicing\n",
    "a = ['foo','bar','baz','qux','quux','corge']\n",
    "print(a[0:6])\n",
    "print(a[1:])"
   ]
  },
  {
   "cell_type": "code",
   "execution_count": 51,
   "id": "872a085a",
   "metadata": {},
   "outputs": [
    {
     "name": "stdout",
     "output_type": "stream",
     "text": [
      "ud\n",
      "udi\n"
     ]
    }
   ],
   "source": [
    "x = 'budi'\n",
    "print(x[1:3])\n",
    "print(x[1:])"
   ]
  },
  {
   "cell_type": "code",
   "execution_count": 52,
   "id": "196d3b3d",
   "metadata": {},
   "outputs": [
    {
     "name": "stdout",
     "output_type": "stream",
     "text": [
      "aragenayruS rikgniT akaJ\n"
     ]
    }
   ],
   "source": [
    "y = 'Jaka Tingkir Suryanegara'\n",
    "print(y[::-1])"
   ]
  },
  {
   "cell_type": "markdown",
   "id": "68eb5504",
   "metadata": {},
   "source": [
    "# Quiz 2"
   ]
  },
  {
   "cell_type": "markdown",
   "id": "bc796c85",
   "metadata": {},
   "source": [
    "a = komitmen"
   ]
  },
  {
   "cell_type": "code",
   "execution_count": 55,
   "id": "874d6689",
   "metadata": {},
   "outputs": [
    {
     "name": "stdout",
     "output_type": "stream",
     "text": [
      "i\n",
      "omi\n",
      "tmen\n",
      "kmte\n",
      "kmtn\n"
     ]
    }
   ],
   "source": [
    "str = 'komitmen'\n",
    "print(str[3])\n",
    "print(str[1:4])\n",
    "print(str[4:])\n",
    "print(str[::2])\n",
    "print(str[0]+str[2]+str[4]+str[7])"
   ]
  },
  {
   "cell_type": "code",
   "execution_count": 56,
   "id": "19c9602b",
   "metadata": {},
   "outputs": [
    {
     "name": "stdout",
     "output_type": "stream",
     "text": [
      "kmtn\n"
     ]
    }
   ],
   "source": [
    "print(a[0:5:2]+a[a.index('n')])"
   ]
  },
  {
   "cell_type": "markdown",
   "id": "031519e2",
   "metadata": {},
   "source": [
    "# Modify List values based on its index"
   ]
  },
  {
   "cell_type": "code",
   "execution_count": 57,
   "id": "dce93b26",
   "metadata": {},
   "outputs": [],
   "source": [
    "a = ['foo','bar','baz','qux','quux','corge','quux']\n",
    "a[a.index('qux')] = 20"
   ]
  },
  {
   "cell_type": "code",
   "execution_count": 58,
   "id": "1e4291a8",
   "metadata": {},
   "outputs": [
    {
     "name": "stdout",
     "output_type": "stream",
     "text": [
      "['foo', 'bar', 'baz', 20, 'corge', 'quux']\n"
     ]
    }
   ],
   "source": [
    "# del command\n",
    "del a[a.index('quux')]\n",
    "print(a)"
   ]
  },
  {
   "cell_type": "code",
   "execution_count": 59,
   "id": "c0c211f7",
   "metadata": {},
   "outputs": [
    {
     "name": "stdout",
     "output_type": "stream",
     "text": [
      "['foo', 'bar', 'baz', 20, 'corge', 'quux']\n"
     ]
    }
   ],
   "source": [
    "print(a)"
   ]
  },
  {
   "cell_type": "code",
   "execution_count": 60,
   "id": "36e81fd0",
   "metadata": {},
   "outputs": [
    {
     "name": "stdout",
     "output_type": "stream",
     "text": [
      "[1, 2, 3, 'qux', 'quux', 'corge', 'quux']\n"
     ]
    }
   ],
   "source": [
    "a = ['foo','bar','baz','qux','quux','corge','quux']\n",
    "a[0:3] = [1,2,3]\n",
    "print(a)"
   ]
  },
  {
   "cell_type": "markdown",
   "id": "08439e6c",
   "metadata": {},
   "source": [
    "# Tuple"
   ]
  },
  {
   "cell_type": "code",
   "execution_count": 61,
   "id": "efb3b1f5",
   "metadata": {},
   "outputs": [
    {
     "name": "stdout",
     "output_type": "stream",
     "text": [
      "<class 'tuple'>\n"
     ]
    }
   ],
   "source": [
    "t = ('foo','bar','baz','qux','quux','corge','quux')\n",
    "print(type(t))"
   ]
  },
  {
   "cell_type": "markdown",
   "id": "df2cde0b",
   "metadata": {},
   "source": [
    "# Dictionary"
   ]
  },
  {
   "cell_type": "code",
   "execution_count": 62,
   "id": "b4a9bd85",
   "metadata": {},
   "outputs": [],
   "source": [
    "MLB_team = {\n",
    "    'Colorado':'Rockies',\n",
    "    'Boston':'Red Sox',\n",
    "    'Minnesota':'Twins',\n",
    "    'Milwaukee':'Brewers',\n",
    "    'Seattle':'Mariners'\n",
    "}"
   ]
  },
  {
   "cell_type": "code",
   "execution_count": null,
   "id": "7dd6ea7d",
   "metadata": {},
   "outputs": [],
   "source": []
  },
  {
   "cell_type": "code",
   "execution_count": 63,
   "id": "dd480d02",
   "metadata": {},
   "outputs": [
    {
     "name": "stdout",
     "output_type": "stream",
     "text": [
      "Rockies\n",
      "Red Sox\n"
     ]
    }
   ],
   "source": [
    "\n",
    "print(MLB_team['Colorado'])\n",
    "print(MLB_team['Boston'])"
   ]
  },
  {
   "cell_type": "code",
   "execution_count": 64,
   "id": "e2ebfd0a",
   "metadata": {},
   "outputs": [
    {
     "name": "stdout",
     "output_type": "stream",
     "text": [
      "{'Colorado': 'Rockies', 'Boston': 'Red Sox', 'Minnesota': 'Twins', 'Milwaukee': 'Brewers', 'Seattle': 'Mariners', 'Kansas City': 'Royals'}\n"
     ]
    }
   ],
   "source": [
    "# Assign Kota Baru\n",
    "MLB_team['Kansas City'] = 'Royals'\n",
    "print(MLB_team)"
   ]
  },
  {
   "cell_type": "code",
   "execution_count": 65,
   "id": "ba12c02e",
   "metadata": {},
   "outputs": [
    {
     "name": "stdout",
     "output_type": "stream",
     "text": [
      "{'Colorado': 'Rockies', 'Boston': 'Red Sox', 'Minnesota': 'Twins', 'Milwaukee': 'Brewers', 'Seattle': 'Seahawks', 'Kansas City': 'Royals'}\n"
     ]
    }
   ],
   "source": [
    "#Update Tim Kota\n",
    "MLB_team['Seattle'] = 'Seahawks'\n",
    "print(MLB_team)"
   ]
  },
  {
   "cell_type": "code",
   "execution_count": 66,
   "id": "2ef58db0",
   "metadata": {},
   "outputs": [
    {
     "name": "stdout",
     "output_type": "stream",
     "text": [
      "{'Boston': 'Red Sox', 'Minnesota': 'Twins', 'Milwaukee': 'Brewers', 'Seattle': 'Seahawks', 'Kansas City': 'Royals'}\n"
     ]
    }
   ],
   "source": [
    "\n",
    "# del command\n",
    "del MLB_team['Colorado']\n",
    "print(MLB_team)\n"
   ]
  },
  {
   "cell_type": "code",
   "execution_count": 67,
   "id": "16dbd29e",
   "metadata": {},
   "outputs": [
    {
     "name": "stdout",
     "output_type": "stream",
     "text": [
      "<class 'dict'>\n"
     ]
    }
   ],
   "source": [
    "orang = {}\n",
    "print(type(orang))"
   ]
  },
  {
   "cell_type": "code",
   "execution_count": 68,
   "id": "8ba69e9b",
   "metadata": {},
   "outputs": [
    {
     "data": {
      "text/plain": [
       "{'Nama': 'Budi',\n",
       " 'Kota': 'Solo',\n",
       " 'Umur': 32,\n",
       " 'Anak': ['Budi', 'Sarah', 'Syifa'],\n",
       " 'Kendaraan': {'mobil': 'Innova', 'motor': 'mio'}}"
      ]
     },
     "execution_count": 68,
     "metadata": {},
     "output_type": "execute_result"
    }
   ],
   "source": [
    "orang['Nama'] = 'Budi'\n",
    "orang['Kota'] = 'Solo'\n",
    "orang['Umur'] = 32\n",
    "orang['Anak'] = ['Budi','Sarah','Syifa']\n",
    "orang['Kendaraan'] ={'mobil':'Innova','motor':'mio'}\n",
    "orang"
   ]
  },
  {
   "cell_type": "code",
   "execution_count": 69,
   "id": "5ae00a91",
   "metadata": {},
   "outputs": [
    {
     "name": "stdout",
     "output_type": "stream",
     "text": [
      "mio\n"
     ]
    }
   ],
   "source": [
    "\n",
    "print(orang['Kendaraan']['motor'])"
   ]
  },
  {
   "cell_type": "code",
   "execution_count": 70,
   "id": "1d8711f4",
   "metadata": {},
   "outputs": [
    {
     "name": "stdout",
     "output_type": "stream",
     "text": [
      "['Budi', 'Sarah']\n"
     ]
    }
   ],
   "source": [
    "print(orang['Anak'][0:2])"
   ]
  },
  {
   "cell_type": "markdown",
   "id": "87f16a5d",
   "metadata": {},
   "source": [
    "# Line Continuation"
   ]
  },
  {
   "cell_type": "code",
   "execution_count": 71,
   "id": "cbdba6e6",
   "metadata": {},
   "outputs": [
    {
     "name": "stdout",
     "output_type": "stream",
     "text": [
      "True\n",
      "False\n",
      "True\n",
      "True\n",
      "False\n",
      "False\n"
     ]
    }
   ],
   "source": [
    "print(True and True)\n",
    "print(True and False)\n",
    "print(True or True)\n",
    "print(True or False)\n",
    "print(False and False)\n",
    "print(False or False)"
   ]
  },
  {
   "cell_type": "code",
   "execution_count": 72,
   "id": "44be2f64",
   "metadata": {},
   "outputs": [
    {
     "name": "stdout",
     "output_type": "stream",
     "text": [
      "True\n",
      "False\n",
      "False\n"
     ]
    }
   ],
   "source": [
    "umur1 = 42\n",
    "umur2 = 16\n",
    "umur3=71\n",
    "\n",
    "print(umur1>=18 and umur1<=65)\n",
    "print(umur2>=18 and umur2<=65)\n",
    "print(umur3>=18 and umur3<=65)"
   ]
  },
  {
   "cell_type": "code",
   "execution_count": 73,
   "id": "f3cdfdd7",
   "metadata": {},
   "outputs": [
    {
     "name": "stdout",
     "output_type": "stream",
     "text": [
      "True\n"
     ]
    }
   ],
   "source": [
    "print((umur1>=18 and umur1<=65) or (umur2>=18 and umur2<=65) or (umur3>=18 and umur3<=65))"
   ]
  },
  {
   "cell_type": "markdown",
   "id": "ea123f25",
   "metadata": {},
   "source": [
    "# Materi Tambahan"
   ]
  },
  {
   "cell_type": "code",
   "execution_count": 74,
   "id": "1837cf7e",
   "metadata": {},
   "outputs": [
    {
     "name": "stdout",
     "output_type": "stream",
     "text": [
      "['Toyota', 'Kijang', 'Isuzu']\n"
     ]
    }
   ],
   "source": [
    "mobil = ['Toyota','Kijang']\n",
    "mobil = mobil + ['Isuzu']\n",
    "print(mobil)"
   ]
  },
  {
   "cell_type": "code",
   "execution_count": 75,
   "id": "02ff64e1",
   "metadata": {},
   "outputs": [
    {
     "name": "stdout",
     "output_type": "stream",
     "text": [
      "['Toyota', 'Kijang', 'Isuzu']\n"
     ]
    }
   ],
   "source": [
    "mobil = ['Toyota','Kijang']\n",
    "mobil.append('Isuzu')\n",
    "print(mobil)"
   ]
  },
  {
   "cell_type": "code",
   "execution_count": 76,
   "id": "2e08c8d9",
   "metadata": {},
   "outputs": [
    {
     "name": "stdout",
     "output_type": "stream",
     "text": [
      "['Toyota', 'Kijang', 'Isuzu']\n"
     ]
    }
   ],
   "source": [
    "\n",
    "kendaraan = mobil.copy()\n",
    "print(kendaraan)"
   ]
  },
  {
   "cell_type": "code",
   "execution_count": 77,
   "id": "d203e3df",
   "metadata": {},
   "outputs": [
    {
     "name": "stdout",
     "output_type": "stream",
     "text": [
      "['Toyota', 'Kijang', 'Isuzu', 'Innova', 'Innova']\n",
      "['Toyota', 'Kijang', 'Isuzu']\n"
     ]
    }
   ],
   "source": [
    "\n",
    "kendaraan.append('Innova')\n",
    "kendaraan.append('Innova')\n",
    "\n",
    "print(kendaraan)\n",
    "print(mobil)"
   ]
  },
  {
   "cell_type": "code",
   "execution_count": 78,
   "id": "8b7afe16",
   "metadata": {},
   "outputs": [
    {
     "name": "stdout",
     "output_type": "stream",
     "text": [
      "['Toyota', 'Kijang', 'Isuzu', 'Innova', 'Innova']\n"
     ]
    }
   ],
   "source": [
    "\n",
    "print(kendaraan)"
   ]
  },
  {
   "cell_type": "code",
   "execution_count": 79,
   "id": "d4e9b6e4",
   "metadata": {},
   "outputs": [],
   "source": [
    "kendaraan.remove('Innova')"
   ]
  },
  {
   "cell_type": "code",
   "execution_count": 80,
   "id": "751b2bf9",
   "metadata": {},
   "outputs": [
    {
     "name": "stdout",
     "output_type": "stream",
     "text": [
      "['Pisang', 'Apel']\n"
     ]
    }
   ],
   "source": [
    "buah = ['Pisang','Jeruk','Apel']\n",
    "buah.pop(1)\n",
    "print(buah)"
   ]
  },
  {
   "cell_type": "code",
   "execution_count": null,
   "id": "0a58be95",
   "metadata": {},
   "outputs": [],
   "source": []
  }
 ],
 "metadata": {
  "kernelspec": {
   "display_name": "Python 3 (ipykernel)",
   "language": "python",
   "name": "python3"
  },
  "language_info": {
   "codemirror_mode": {
    "name": "ipython",
    "version": 3
   },
   "file_extension": ".py",
   "mimetype": "text/x-python",
   "name": "python",
   "nbconvert_exporter": "python",
   "pygments_lexer": "ipython3",
   "version": "3.9.13"
  }
 },
 "nbformat": 4,
 "nbformat_minor": 5
}
