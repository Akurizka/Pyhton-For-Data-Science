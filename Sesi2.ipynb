{
 "cells": [
  {
   "cell_type": "markdown",
   "id": "7071ba75",
   "metadata": {},
   "source": [
    "# Conditional"
   ]
  },
  {
   "cell_type": "code",
   "execution_count": 1,
   "id": "cf2dca6a",
   "metadata": {},
   "outputs": [
    {
     "name": "stdout",
     "output_type": "stream",
     "text": [
      "ya benar\n",
      "ya benar\n",
      "ya benar\n"
     ]
    }
   ],
   "source": [
    "x = 2\n",
    "y = 3\n",
    "\n",
    "if x<y:\n",
    "    print('ya benar')\n",
    "if x>y:\n",
    "    print('ya benar')\n",
    "if x==y:\n",
    "    print('ya benar')\n",
    "if x<=y:\n",
    "    print('ya benar')\n",
    "if 'we' in ['we','wa','wo']:\n",
    "    print('ya benar')"
   ]
  },
  {
   "cell_type": "code",
   "execution_count": 2,
   "id": "be3f1eb9",
   "metadata": {},
   "outputs": [
    {
     "name": "stdout",
     "output_type": "stream",
     "text": [
      "True\n"
     ]
    }
   ],
   "source": [
    "print('we' in ['we','wa','wo'])"
   ]
  },
  {
   "cell_type": "code",
   "execution_count": 3,
   "id": "e2014cad",
   "metadata": {},
   "outputs": [
    {
     "name": "stdout",
     "output_type": "stream",
     "text": [
      "ya benar\n"
     ]
    }
   ],
   "source": [
    "#Python perlu yang namanya indentasi\n",
    "x = 2\n",
    "y = 3\n",
    "\n",
    "if x<y:\n",
    "    if y<x:\n",
    "        pass\n",
    "    print('ya benar')"
   ]
  },
  {
   "cell_type": "markdown",
   "id": "ffd1790b",
   "metadata": {},
   "source": [
    "# If elif dan else"
   ]
  },
  {
   "cell_type": "code",
   "execution_count": 4,
   "id": "192e0425",
   "metadata": {},
   "outputs": [
    {
     "name": "stdout",
     "output_type": "stream",
     "text": [
      "Mahal\n"
     ]
    }
   ],
   "source": [
    "harga_jeruk = 50000\n",
    "standar_harga = 30000\n",
    "# apabila jeruk lebih dari standar harga maka jeruk itu mahal dan apabila kurang dari standar harga maka jeruk itu murah, dan apabila hrg jeruk sama dengan standar maka biasa saja\n",
    "if harga_jeruk>standar_harga:\n",
    "    print('Mahal')\n",
    "elif harga_jeruk<standar_harga:\n",
    "    print('Murah')\n",
    "elif harga_jeruk==standar_harga:\n",
    "    print('Biasa')"
   ]
  },
  {
   "cell_type": "code",
   "execution_count": 8,
   "id": "dd7c5417",
   "metadata": {},
   "outputs": [
    {
     "name": "stdout",
     "output_type": "stream",
     "text": [
      "Murah\n"
     ]
    }
   ],
   "source": [
    "harga_jeruk = 15000\n",
    "standar_harga = 30000\n",
    "# apabila jeruk lebih dari standar harga maka jeruk itu mahal dan apabila kurang dari standar harga maka jeruk itu murah, dan apabila hrg jeruk sama dengan standar maka biasa saja\n",
    "if harga_jeruk>standar_harga:\n",
    "    print('Mahal')\n",
    "elif harga_jeruk<standar_harga:\n",
    "    print('Murah')\n",
    "elif harga_jeruk==standar_harga:\n",
    "    print('Biasa')"
   ]
  },
  {
   "cell_type": "code",
   "execution_count": 5,
   "id": "bd52fbcd",
   "metadata": {},
   "outputs": [
    {
     "name": "stdout",
     "output_type": "stream",
     "text": [
      "Biasa\n"
     ]
    }
   ],
   "source": [
    "harga_jeruk = 30000\n",
    "standar_harga = 30000\n",
    "# apabila jeruk lebih dari standar harga maka jeruk itu mahal dan apabila kurang dari standar harga maka jeruk itu murah, dan apabila hrg jeruk sama dengan standar maka biasa saja\n",
    "if harga_jeruk>standar_harga:\n",
    "    print('Mahal')\n",
    "elif harga_jeruk<standar_harga:\n",
    "    print('Murah')\n",
    "else:\n",
    "    print('Biasa')"
   ]
  },
  {
   "cell_type": "code",
   "execution_count": 6,
   "id": "33386990",
   "metadata": {},
   "outputs": [
    {
     "name": "stdout",
     "output_type": "stream",
     "text": [
      "Mahal\n"
     ]
    }
   ],
   "source": [
    "# apabila jeruk lebih dari standar harga maka jeruk itu mahal dan apabila kurang dari sama dengan standar harga maka jeruk itu murah\n",
    "harga_jeruk = 70000\n",
    "standar_harga = 50000\n",
    "if harga_jeruk>standar_harga:\n",
    "    print('Mahal')\n",
    "else:\n",
    "    print('Murah')"
   ]
  },
  {
   "cell_type": "code",
   "execution_count": 7,
   "id": "78febbc0",
   "metadata": {},
   "outputs": [
    {
     "name": "stdout",
     "output_type": "stream",
     "text": [
      "Input Harga Jeruk=15000\n",
      "Murah\n"
     ]
    }
   ],
   "source": [
    "# apabila jeruk lebih dari standar harga maka jeruk itu mahal dan apabila kurang dari sama dengan standar harga maka jeruk itu murah\n",
    "harga_jeruk = int(input('Input Harga Jeruk='))\n",
    "standar_harga = 30000\n",
    "if harga_jeruk>standar_harga:\n",
    "    print('Mahal')\n",
    "else:\n",
    "    print('Murah')"
   ]
  },
  {
   "cell_type": "markdown",
   "id": "c460bf82",
   "metadata": {},
   "source": [
    "# Quiz 1"
   ]
  },
  {
   "cell_type": "markdown",
   "id": "a9363244",
   "metadata": {},
   "source": [
    "Anda adalah penjual pisang. Yang mana pisang anda berharga 3000.\n",
    "Buatlah sebuah program if-else yg memiliki kondisi, jika seseorang berbelanja di Anda lebih dari 100,000 maka akan diberikan diskon 10%. Kalau lebih dari 50,000 namun kurang dari 100,000 maka akan diberi diskon 5%. Kalau kurang dari 50,000 maka tidak diberi diskon sama sekali.\n",
    "\n",
    "contoh:\n",
    "\n",
    "in: berapa pisang yg ingin anda beli? 30\n",
    "out: total belanja Anda adalah IDR 85,500 (90,000 di diskon 5%)"
   ]
  },
  {
   "cell_type": "code",
   "execution_count": 9,
   "id": "86b60564",
   "metadata": {},
   "outputs": [
    {
     "name": "stdout",
     "output_type": "stream",
     "text": [
      "total belanja anda adalah IDR 85500 (90000 di diskon 5.0 %) \n"
     ]
    }
   ],
   "source": [
    "\n",
    "harga = 85500\n",
    "harga_awal = 90000\n",
    "diskon = 0.05\n",
    "print('total belanja anda adalah IDR {} ({} di diskon {} %) '.format(harga,harga_awal,diskon*100))"
   ]
  },
  {
   "cell_type": "code",
   "execution_count": 11,
   "id": "efdda698",
   "metadata": {},
   "outputs": [
    {
     "name": "stdout",
     "output_type": "stream",
     "text": [
      "Biasa\n"
     ]
    }
   ],
   "source": [
    "harga_jeruk = 30000\n",
    "standar_harga = 30000\n",
    "# apabila jeruk lebih dari standar harga maka jeruk itu mahal dan apabila kurang dari standar harga maka jeruk itu murah, dan apabila hrg jeruk sama dengan standar maka biasa saja\n",
    "if harga_jeruk>standar_harga:\n",
    "    print('Mahal')\n",
    "    print('Banget')\n",
    "    print(1+1)\n",
    "elif harga_jeruk<standar_harga:\n",
    "    print('Murah')\n",
    "elif harga_jeruk==standar_harga:\n",
    "    print('Biasa')"
   ]
  },
  {
   "cell_type": "markdown",
   "id": "b52bf14a",
   "metadata": {},
   "source": [
    "# One-line if-statements"
   ]
  },
  {
   "cell_type": "code",
   "execution_count": 12,
   "id": "041e7bcc",
   "metadata": {},
   "outputs": [
    {
     "name": "stdout",
     "output_type": "stream",
     "text": [
      "Murah\n"
     ]
    }
   ],
   "source": [
    "harga_jeruk = 20000\n",
    "standar_harga = 30000\n",
    "if harga_jeruk>standar_harga: print('Mahal');print('Banget');print(1+1)\n",
    "elif harga_jeruk<standar_harga: print('Murah')\n",
    "else: print('Biasa')"
   ]
  },
  {
   "cell_type": "markdown",
   "id": "bb1ba230",
   "metadata": {},
   "source": [
    "# Conditional Expressions"
   ]
  },
  {
   "cell_type": "markdown",
   "id": "2c4d83aa",
   "metadata": {},
   "source": [
    "<expr1> if <conditional_expr> else <expr2>"
   ]
  },
  {
   "cell_type": "code",
   "execution_count": 14,
   "id": "d91a0fd3",
   "metadata": {},
   "outputs": [
    {
     "name": "stdout",
     "output_type": "stream",
     "text": [
      "Tua\n"
     ]
    }
   ],
   "source": [
    "umur = 37\n",
    "s = 'Tua' if umur >= 35 else 'Muda'\n",
    "print(s)"
   ]
  },
  {
   "cell_type": "code",
   "execution_count": 15,
   "id": "bbf8ec6c",
   "metadata": {},
   "outputs": [
    {
     "name": "stdout",
     "output_type": "stream",
     "text": [
      "Out of Class\n"
     ]
    }
   ],
   "source": [
    "nama = 'Fachri'\n",
    "n = 'In Class' if nama in ['Rahmat','Nunu'] else 'Out of Class'\n",
    "print(n)"
   ]
  },
  {
   "cell_type": "code",
   "execution_count": 17,
   "id": "69b3e9c7",
   "metadata": {},
   "outputs": [],
   "source": [
    "harga_jeruk = 20000\n",
    "standar_harga = 30000\n",
    "tanggal_lahir = 1997\n",
    "# apabila jeruk lebih dari standar harga maka jeruk itu mahal dan apabila kurang dari standar harga maka jeruk itu murah, dan apabila hrg jeruk sama dengan standar maka biasa saja\n",
    "if harga_jeruk>standar_harga:\n",
    "    print('Mahal')\n",
    "    print('Banget')\n",
    "    print(1+1)\n",
    "else:\n",
    "    pass"
   ]
  },
  {
   "cell_type": "markdown",
   "id": "d71c1233",
   "metadata": {},
   "source": [
    "# Quiz 2"
   ]
  },
  {
   "cell_type": "markdown",
   "id": "7039131d",
   "metadata": {},
   "source": [
    "Anda adalah seorang pemilik perusahaan dan Anda berniat untuk memberi bonus kepada pegawai Anda.\n",
    "Buatlah program if-else yg memiliki kondisi, jika Year of Service seorang pegawai lebih dari 10 tahun, maka gajinya akan diberi bonus sebesar 10%.\n",
    "\n",
    "contoh:\n",
    "\n",
    "in: berapa gaji anda? 10000000\n",
    "\n",
    "in: year of service? 15\n",
    "\n",
    "out: Selamat Anda mendapat bonus! Total gaji anda IDR\n",
    "11000000"
   ]
  },
  {
   "cell_type": "markdown",
   "id": "6c893a7e",
   "metadata": {},
   "source": [
    "# Loop"
   ]
  },
  {
   "cell_type": "code",
   "execution_count": 18,
   "id": "a60fdedb",
   "metadata": {},
   "outputs": [
    {
     "name": "stdout",
     "output_type": "stream",
     "text": [
      "fooayam\n",
      "barayam\n",
      "bazayam\n",
      "quxayam\n",
      "quuxayam\n",
      "corgeayam\n"
     ]
    }
   ],
   "source": [
    "for i in ['foo','bar','baz','qux','quux','corge']:\n",
    "    print(i+'ayam')"
   ]
  },
  {
   "cell_type": "code",
   "execution_count": 21,
   "id": "5411e639",
   "metadata": {},
   "outputs": [
    {
     "name": "stdout",
     "output_type": "stream",
     "text": [
      "fookucing\n",
      "barkucing\n",
      "bazkucing\n",
      "quxkucing\n",
      "quuxkucing\n",
      "corgekucing\n"
     ]
    }
   ],
   "source": [
    "for i in ['foo','bar','baz','qux','quux','corge']:\n",
    "    print(i+'kucing')"
   ]
  },
  {
   "cell_type": "code",
   "execution_count": 19,
   "id": "2e7a14ae",
   "metadata": {},
   "outputs": [
    {
     "name": "stdout",
     "output_type": "stream",
     "text": [
      "2\n",
      "3\n",
      "4\n",
      "5\n"
     ]
    }
   ],
   "source": [
    "for i in [1,2,3,4]:\n",
    "    print(i+1)"
   ]
  },
  {
   "cell_type": "code",
   "execution_count": 20,
   "id": "0533a6a5",
   "metadata": {},
   "outputs": [
    {
     "name": "stdout",
     "output_type": "stream",
     "text": [
      "3\n",
      "4\n",
      "5\n",
      "6\n",
      "7\n",
      "8\n",
      "9\n",
      "10\n"
     ]
    }
   ],
   "source": [
    "for i in [2,3,4,5,6,7,8,9]:\n",
    "    print(i+1)"
   ]
  },
  {
   "cell_type": "markdown",
   "id": "6b77007e",
   "metadata": {},
   "source": [
    "objek yang bisa dilakukan looping adalah iterable (string, list, tuple, dictionary, dsb)"
   ]
  },
  {
   "cell_type": "code",
   "execution_count": 22,
   "id": "c26400da",
   "metadata": {},
   "outputs": [
    {
     "name": "stdout",
     "output_type": "stream",
     "text": [
      "s\n",
      "t\n",
      "r\n",
      "i\n",
      "n\n",
      "g\n"
     ]
    }
   ],
   "source": [
    "for i in 'string':\n",
    "    print(i)"
   ]
  },
  {
   "cell_type": "code",
   "execution_count": 23,
   "id": "e0aa2363",
   "metadata": {},
   "outputs": [
    {
     "name": "stdout",
     "output_type": "stream",
     "text": [
      "I\n",
      "n\n",
      "t\n",
      "e\n",
      "g\n",
      "e\n",
      "r\n"
     ]
    }
   ],
   "source": [
    "for i in 'Integer':\n",
    "    print(i)"
   ]
  },
  {
   "cell_type": "markdown",
   "id": "08c5b482",
   "metadata": {},
   "source": [
    "# While Loop"
   ]
  },
  {
   "cell_type": "code",
   "execution_count": 1,
   "id": "de4ebcf5",
   "metadata": {},
   "outputs": [
    {
     "name": "stdout",
     "output_type": "stream",
     "text": [
      "4\n",
      "3\n",
      "2\n",
      "1\n",
      "0\n"
     ]
    }
   ],
   "source": [
    "apel = 5\n",
    "while apel>0:\n",
    "    apel-=1\n",
    "    print(apel)"
   ]
  },
  {
   "cell_type": "code",
   "execution_count": 2,
   "id": "563a7139",
   "metadata": {},
   "outputs": [
    {
     "name": "stdout",
     "output_type": "stream",
     "text": [
      "5\n",
      "4\n",
      "3\n",
      "2\n",
      "1\n",
      "0\n"
     ]
    }
   ],
   "source": [
    "apel = 6\n",
    "while apel>0:\n",
    "    apel-=1\n",
    "    print(apel)"
   ]
  },
  {
   "cell_type": "code",
   "execution_count": 3,
   "id": "fef0015f",
   "metadata": {},
   "outputs": [
    {
     "name": "stdout",
     "output_type": "stream",
     "text": [
      "4\n"
     ]
    }
   ],
   "source": [
    "apel = 5\n",
    "apel -=1\n",
    "print(apel)"
   ]
  },
  {
   "cell_type": "code",
   "execution_count": 4,
   "id": "ec8beeda",
   "metadata": {},
   "outputs": [
    {
     "name": "stdout",
     "output_type": "stream",
     "text": [
      "6\n"
     ]
    }
   ],
   "source": [
    "telur = 5\n",
    "telur +=1\n",
    "print(telur)"
   ]
  },
  {
   "cell_type": "code",
   "execution_count": 5,
   "id": "7d51de50",
   "metadata": {},
   "outputs": [
    {
     "name": "stdout",
     "output_type": "stream",
     "text": [
      "4\n",
      "3\n",
      "2\n",
      "woy tinggal 1 nih ati2 ya\n",
      "0\n"
     ]
    }
   ],
   "source": [
    "apel = 5\n",
    "while apel>0:\n",
    "    apel-=1\n",
    "    if apel ==1:\n",
    "        print('woy tinggal 1 nih ati2 ya')\n",
    "    else:\n",
    "        print(apel)"
   ]
  },
  {
   "cell_type": "code",
   "execution_count": 6,
   "id": "80e3cbf1",
   "metadata": {},
   "outputs": [
    {
     "name": "stdout",
     "output_type": "stream",
     "text": [
      "4\n",
      "3\n",
      "Loop Ended\n"
     ]
    }
   ],
   "source": [
    "# break digunakan untuk memberhentikan loop\n",
    "apel = 5\n",
    "while apel>0:\n",
    "    apel-=1\n",
    "    if apel ==2:\n",
    "        break\n",
    "    print(apel)\n",
    "print('Loop Ended')"
   ]
  },
  {
   "cell_type": "code",
   "execution_count": 7,
   "id": "0fae0555",
   "metadata": {},
   "outputs": [
    {
     "data": {
      "text/plain": [
       "2"
      ]
     },
     "execution_count": 7,
     "metadata": {},
     "output_type": "execute_result"
    }
   ],
   "source": [
    "apel"
   ]
  },
  {
   "cell_type": "code",
   "execution_count": 8,
   "id": "69ed21d9",
   "metadata": {},
   "outputs": [
    {
     "data": {
      "text/plain": [
       "6"
      ]
     },
     "execution_count": 8,
     "metadata": {},
     "output_type": "execute_result"
    }
   ],
   "source": [
    "telur"
   ]
  },
  {
   "cell_type": "code",
   "execution_count": 9,
   "id": "10a32eee",
   "metadata": {},
   "outputs": [
    {
     "name": "stdout",
     "output_type": "stream",
     "text": [
      "4\n",
      "3\n",
      "1\n",
      "0\n",
      "Loop Ended\n"
     ]
    }
   ],
   "source": [
    "# continue digunakan untuk melanjukan loop berdasarkan kondisi\n",
    "apel = 5\n",
    "while apel>0:\n",
    "    apel-=1\n",
    "    if apel ==2:\n",
    "        continue\n",
    "    print(apel)\n",
    "print('Loop Ended')"
   ]
  },
  {
   "cell_type": "code",
   "execution_count": 10,
   "id": "f9461df9",
   "metadata": {},
   "outputs": [
    {
     "name": "stdout",
     "output_type": "stream",
     "text": [
      "8\n",
      "6\n",
      "4\n",
      "2\n",
      "0\n",
      "loop ended\n"
     ]
    }
   ],
   "source": [
    "# else\n",
    "apel = 10\n",
    "while apel>0:\n",
    "    apel-=2\n",
    "    print(apel)\n",
    "else:\n",
    "    print('loop ended')"
   ]
  },
  {
   "cell_type": "code",
   "execution_count": 11,
   "id": "b663036b",
   "metadata": {},
   "outputs": [
    {
     "name": "stdout",
     "output_type": "stream",
     "text": [
      "4\n",
      "3\n",
      "2\n",
      "1\n",
      "0\n",
      "Loop Ended\n"
     ]
    }
   ],
   "source": [
    "# pass digunakan untuk melanjutkan mengeksekusi program di bawahnya.\n",
    "apel = 5\n",
    "while apel>0:\n",
    "    apel-=1\n",
    "    if apel ==2:\n",
    "        pass\n",
    "    print(apel)\n",
    "print('Loop Ended')"
   ]
  },
  {
   "cell_type": "markdown",
   "id": "85eea819",
   "metadata": {},
   "source": [
    "# Nested If - Else & Loops"
   ]
  },
  {
   "cell_type": "code",
   "execution_count": 12,
   "id": "12d9e5c5",
   "metadata": {},
   "outputs": [
    {
     "name": "stdout",
     "output_type": "stream",
     "text": [
      "Dad\n"
     ]
    }
   ],
   "source": [
    "#Nested IF\n",
    "umur = 42\n",
    "gender = 'M'\n",
    "if umur <18:\n",
    "    if gender == 'M':\n",
    "        print('Son')\n",
    "    else:\n",
    "        print('Daughter')\n",
    "if umur >=18 and umur <65:\n",
    "    if gender == 'M':\n",
    "        print('Dad')\n",
    "    else:\n",
    "        print('Mom')"
   ]
  },
  {
   "cell_type": "markdown",
   "id": "13c114fc",
   "metadata": {},
   "source": [
    "# One line While Loops"
   ]
  },
  {
   "cell_type": "code",
   "execution_count": 14,
   "id": "4891040b",
   "metadata": {},
   "outputs": [
    {
     "name": "stdout",
     "output_type": "stream",
     "text": [
      "4\n",
      "3\n",
      "2\n",
      "1\n",
      "0\n"
     ]
    }
   ],
   "source": [
    "jambu = 5\n",
    "while jambu>0:jambu-=1;print(jambu)"
   ]
  },
  {
   "cell_type": "markdown",
   "id": "26a124cc",
   "metadata": {},
   "source": [
    "# For Loop"
   ]
  },
  {
   "cell_type": "code",
   "execution_count": 15,
   "id": "3f8b2961",
   "metadata": {},
   "outputs": [
    {
     "name": "stdout",
     "output_type": "stream",
     "text": [
      "1\n",
      "2\n",
      "3\n",
      "4\n",
      "5\n",
      "6\n"
     ]
    }
   ],
   "source": [
    "a = [1,2,3,4,5,6]\n",
    "for i in a:\n",
    "    print(i)"
   ]
  },
  {
   "cell_type": "code",
   "execution_count": 16,
   "id": "6d3fb499",
   "metadata": {},
   "outputs": [
    {
     "name": "stdout",
     "output_type": "stream",
     "text": [
      "Budi\n",
      "Joko\n",
      "Anwar\n"
     ]
    }
   ],
   "source": [
    "# For Loop\n",
    "b = ['Budi','Joko','Anwar']\n",
    "for i in b:\n",
    "    print(i)"
   ]
  },
  {
   "cell_type": "code",
   "execution_count": 17,
   "id": "b3954e4b",
   "metadata": {},
   "outputs": [
    {
     "name": "stdout",
     "output_type": "stream",
     "text": [
      "B\n",
      "u\n",
      "d\n",
      "i\n",
      "J\n",
      "o\n",
      "k\n",
      "o\n",
      "A\n",
      "n\n",
      "w\n",
      "a\n",
      "r\n"
     ]
    }
   ],
   "source": [
    "# Nested For Loop\n",
    "b = ['Budi','Joko','Anwar']\n",
    "for i in b:\n",
    "    for j in i :\n",
    "        print(j)"
   ]
  },
  {
   "cell_type": "code",
   "execution_count": 18,
   "id": "12e2cbea",
   "metadata": {},
   "outputs": [
    {
     "name": "stdout",
     "output_type": "stream",
     "text": [
      "B\n",
      "u\n",
      "d\n",
      "i\n"
     ]
    }
   ],
   "source": [
    "# Nested For Loop\n",
    "b = ['Budi','Joko','Anwar']\n",
    "for i in b:\n",
    "    if i == 'Joko':\n",
    "        break\n",
    "    for j in i :\n",
    "        print(j)"
   ]
  },
  {
   "cell_type": "code",
   "execution_count": 19,
   "id": "940dd4cc",
   "metadata": {},
   "outputs": [
    {
     "name": "stdout",
     "output_type": "stream",
     "text": [
      "Bekasi\n"
     ]
    }
   ],
   "source": [
    "dictionary_a = {'A':'Bekasi','B':'Jakarta','C':'Medan'}\n",
    "for i in dictionary_a:\n",
    "    if dictionary_a[i] == 'Bekasi':\n",
    "        print(dictionary_a[i])"
   ]
  },
  {
   "cell_type": "code",
   "execution_count": 20,
   "id": "16bf30e1",
   "metadata": {},
   "outputs": [
    {
     "data": {
      "text/plain": [
       "dict_keys(['A', 'B', 'C'])"
      ]
     },
     "execution_count": 20,
     "metadata": {},
     "output_type": "execute_result"
    }
   ],
   "source": [
    "dictionary_a.keys()"
   ]
  },
  {
   "cell_type": "code",
   "execution_count": 21,
   "id": "46e7f9a9",
   "metadata": {},
   "outputs": [
    {
     "data": {
      "text/plain": [
       "dict_values(['Bekasi', 'Jakarta', 'Medan'])"
      ]
     },
     "execution_count": 21,
     "metadata": {},
     "output_type": "execute_result"
    }
   ],
   "source": [
    "dictionary_a.values()"
   ]
  },
  {
   "cell_type": "code",
   "execution_count": 22,
   "id": "3ae9035c",
   "metadata": {},
   "outputs": [
    {
     "data": {
      "text/plain": [
       "dict_items([('A', 'Bekasi'), ('B', 'Jakarta'), ('C', 'Medan')])"
      ]
     },
     "execution_count": 22,
     "metadata": {},
     "output_type": "execute_result"
    }
   ],
   "source": [
    "dictionary_a.items()"
   ]
  },
  {
   "cell_type": "code",
   "execution_count": 23,
   "id": "8d0a93da",
   "metadata": {},
   "outputs": [
    {
     "name": "stdout",
     "output_type": "stream",
     "text": [
      "Bekasi\n",
      "Jakarta\n",
      "Medan\n"
     ]
    }
   ],
   "source": [
    "dictionary_a = {'A':'Bekasi','B':'Jakarta','C':'Medan'}\n",
    "for i in dictionary_a.values():\n",
    "    print(i)"
   ]
  },
  {
   "cell_type": "code",
   "execution_count": 24,
   "id": "bdd3436b",
   "metadata": {},
   "outputs": [
    {
     "name": "stdout",
     "output_type": "stream",
     "text": [
      "A\n",
      "B\n",
      "C\n"
     ]
    }
   ],
   "source": [
    "dictionary_a = {'A':'Bekasi','B':'Jakarta','C':'Medan'}\n",
    "for i in dictionary_a.keys():\n",
    "    print(i)"
   ]
  },
  {
   "cell_type": "code",
   "execution_count": 25,
   "id": "9c4dd703",
   "metadata": {},
   "outputs": [
    {
     "name": "stdout",
     "output_type": "stream",
     "text": [
      "A Bekasi\n",
      "B Jakarta\n",
      "C Medan\n"
     ]
    }
   ],
   "source": [
    "dictionary_a = {'A':'Bekasi','B':'Jakarta','C':'Medan'}\n",
    "for i,j in dictionary_a.items():\n",
    "    print(i,j)"
   ]
  },
  {
   "cell_type": "code",
   "execution_count": 26,
   "id": "70df731c",
   "metadata": {},
   "outputs": [
    {
     "name": "stdout",
     "output_type": "stream",
     "text": [
      "Aster\n",
      "Hachi\n"
     ]
    }
   ],
   "source": [
    "#Continue\n",
    "for i in ['Aster','Jubah','Nambo','Hachi']:\n",
    "    if 'b' in i:\n",
    "        continue\n",
    "    print(i)"
   ]
  },
  {
   "cell_type": "code",
   "execution_count": 27,
   "id": "13612350",
   "metadata": {},
   "outputs": [
    {
     "name": "stdout",
     "output_type": "stream",
     "text": [
      "Aster\n",
      "Jubah\n",
      "Nambo\n",
      "Hachi\n"
     ]
    }
   ],
   "source": [
    "#Pass\n",
    "for i in ['Aster','Jubah','Nambo','Hachi']:\n",
    "    if 'b' in i:\n",
    "        pass\n",
    "    print(i)"
   ]
  },
  {
   "cell_type": "code",
   "execution_count": 28,
   "id": "87b68b12",
   "metadata": {},
   "outputs": [
    {
     "name": "stdout",
     "output_type": "stream",
     "text": [
      "Aster\n"
     ]
    }
   ],
   "source": [
    "#Break\n",
    "for i in ['Aster','Jubah','Nambo','Hachi']:\n",
    "    if 'b' in i:\n",
    "        break\n",
    "    print(i)"
   ]
  },
  {
   "cell_type": "code",
   "execution_count": 29,
   "id": "36babcef",
   "metadata": {},
   "outputs": [
    {
     "name": "stdout",
     "output_type": "stream",
     "text": [
      "Aster\n",
      "Jubah\n",
      "Nambo\n",
      "Hachi\n",
      "Loop Done\n"
     ]
    }
   ],
   "source": [
    "for i in ['Aster','Jubah','Nambo','Hachi'] :\n",
    "    print(i)\n",
    "else:\n",
    "    print('Loop Done')"
   ]
  },
  {
   "cell_type": "code",
   "execution_count": 30,
   "id": "adea1421",
   "metadata": {},
   "outputs": [
    {
     "name": "stdout",
     "output_type": "stream",
     "text": [
      "12\n",
      "15\n",
      "18\n"
     ]
    }
   ],
   "source": [
    "a = [1,2,3]\n",
    "b = [4,5,6]\n",
    "c = [7,8,9]\n",
    "for i,j,k in zip(a,b,c):\n",
    "    print(i+j+k)"
   ]
  },
  {
   "cell_type": "markdown",
   "id": "7b394eae",
   "metadata": {},
   "source": [
    "# Quiz 2"
   ]
  },
  {
   "cell_type": "markdown",
   "id": "5cc19564",
   "metadata": {},
   "source": [
    "Menggunakan while loop buatlah program sederhana,\n",
    "ketika bertemu dengan angka ganjil, maka print angkanya.\n",
    "ketika bertemu dengan angka genap, maka print \"GENAP\"\n",
    "batas angka 1-20"
   ]
  },
  {
   "cell_type": "code",
   "execution_count": 32,
   "id": "a849dd69",
   "metadata": {},
   "outputs": [
    {
     "name": "stdout",
     "output_type": "stream",
     "text": [
      "1\n",
      "GENAP\n",
      "3\n",
      "GENAP\n",
      "5\n",
      "GENAP\n",
      "7\n",
      "GENAP\n",
      "9\n",
      "GENAP\n",
      "11\n",
      "GENAP\n",
      "13\n",
      "GENAP\n",
      "15\n",
      "GENAP\n",
      "17\n",
      "GENAP\n",
      "19\n",
      "GENAP\n"
     ]
    }
   ],
   "source": [
    "i = 1\n",
    "while i <=20:\n",
    "    if i % 2==1:\n",
    "        print(i)\n",
    "    else:\n",
    "        print(\"GENAP\")\n",
    "    i+=1"
   ]
  },
  {
   "cell_type": "markdown",
   "id": "3b4bae41",
   "metadata": {},
   "source": [
    "# PR"
   ]
  },
  {
   "cell_type": "code",
   "execution_count": 34,
   "id": "d91a4de9",
   "metadata": {},
   "outputs": [
    {
     "name": "stdout",
     "output_type": "stream",
     "text": [
      "Input tinggi segitiga: 10\n",
      "\n",
      "1 \n",
      "1 2 \n",
      "1 2 3 \n",
      "1 2 3 4 \n",
      "1 2 3 4 5 \n",
      "1 2 3 4 5 6 \n",
      "1 2 3 4 5 6 7 \n",
      "1 2 3 4 5 6 7 8 \n",
      "1 2 3 4 5 6 7 8 9 \n",
      "1 2 3 4 5 6 7 8 9 10 \n"
     ]
    }
   ],
   "source": [
    "tinggi_segitiga = int(input('Input tinggi segitiga: '))\n",
    "print()\n",
    "  \n",
    "for i in range(1,tinggi_segitiga+1):\n",
    "  for j in range(1,i+1):\n",
    "    print(j,' ',end='',sep='')\n",
    "  print()"
   ]
  },
  {
   "cell_type": "code",
   "execution_count": null,
   "id": "ca00ccdb",
   "metadata": {},
   "outputs": [],
   "source": []
  }
 ],
 "metadata": {
  "kernelspec": {
   "display_name": "Python 3 (ipykernel)",
   "language": "python",
   "name": "python3"
  },
  "language_info": {
   "codemirror_mode": {
    "name": "ipython",
    "version": 3
   },
   "file_extension": ".py",
   "mimetype": "text/x-python",
   "name": "python",
   "nbconvert_exporter": "python",
   "pygments_lexer": "ipython3",
   "version": "3.9.13"
  }
 },
 "nbformat": 4,
 "nbformat_minor": 5
}
