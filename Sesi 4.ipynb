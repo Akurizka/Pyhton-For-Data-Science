{
 "cells": [
  {
   "cell_type": "markdown",
   "id": "4bcd9ecf",
   "metadata": {},
   "source": [
    "### Numpy Array"
   ]
  },
  {
   "cell_type": "code",
   "execution_count": 1,
   "id": "42b56449",
   "metadata": {},
   "outputs": [],
   "source": [
    "a = [1,2,3]"
   ]
  },
  {
   "cell_type": "markdown",
   "id": "10c04eca",
   "metadata": {},
   "source": [
    "### Import numpy"
   ]
  },
  {
   "cell_type": "code",
   "execution_count": 2,
   "id": "11edd1b5",
   "metadata": {},
   "outputs": [],
   "source": [
    "import numpy as np"
   ]
  },
  {
   "cell_type": "code",
   "execution_count": 3,
   "id": "b150d502",
   "metadata": {},
   "outputs": [],
   "source": [
    "c = np.array([1,2,3])"
   ]
  },
  {
   "cell_type": "code",
   "execution_count": 4,
   "id": "5e5d198f",
   "metadata": {},
   "outputs": [
    {
     "data": {
      "text/plain": [
       "array([1, 2, 3])"
      ]
     },
     "execution_count": 4,
     "metadata": {},
     "output_type": "execute_result"
    }
   ],
   "source": [
    "c"
   ]
  },
  {
   "cell_type": "markdown",
   "id": "edd4481a",
   "metadata": {},
   "source": [
    "### one dimensional array"
   ]
  },
  {
   "cell_type": "code",
   "execution_count": 5,
   "id": "1cf7055a",
   "metadata": {},
   "outputs": [
    {
     "data": {
      "text/plain": [
       "2"
      ]
     },
     "execution_count": 5,
     "metadata": {},
     "output_type": "execute_result"
    }
   ],
   "source": [
    "c[1]"
   ]
  },
  {
   "cell_type": "code",
   "execution_count": 6,
   "id": "658bc2e3",
   "metadata": {},
   "outputs": [],
   "source": [
    "array_1 = np.array([1,2,3,4,5,6,7,8])"
   ]
  },
  {
   "cell_type": "code",
   "execution_count": 7,
   "id": "80a40bdd",
   "metadata": {},
   "outputs": [
    {
     "data": {
      "text/plain": [
       "array([4, 5, 6, 7, 8])"
      ]
     },
     "execution_count": 7,
     "metadata": {},
     "output_type": "execute_result"
    }
   ],
   "source": [
    "array_1[3:]"
   ]
  },
  {
   "cell_type": "code",
   "execution_count": 8,
   "id": "63857b3c",
   "metadata": {},
   "outputs": [
    {
     "data": {
      "text/plain": [
       "(8,)"
      ]
     },
     "execution_count": 8,
     "metadata": {},
     "output_type": "execute_result"
    }
   ],
   "source": [
    "array_1.shape"
   ]
  },
  {
   "cell_type": "markdown",
   "id": "3b624cde",
   "metadata": {},
   "source": [
    "### 2 dimensional array consists of list of lists "
   ]
  },
  {
   "cell_type": "code",
   "execution_count": 9,
   "id": "4733889b",
   "metadata": {},
   "outputs": [
    {
     "name": "stdout",
     "output_type": "stream",
     "text": [
      "(3, 3)\n"
     ]
    }
   ],
   "source": [
    "list_of_lists = [[1,2,3],[4,5,6],[7,8,9]]\n",
    "array_2 = np.array(list_of_lists)\n",
    "array_2\n",
    "print(array_2.shape)"
   ]
  },
  {
   "cell_type": "code",
   "execution_count": 10,
   "id": "c277414b",
   "metadata": {},
   "outputs": [
    {
     "name": "stdout",
     "output_type": "stream",
     "text": [
      "(3, 2)\n"
     ]
    },
    {
     "data": {
      "text/plain": [
       "array([[1, 2],\n",
       "       [3, 4],\n",
       "       [5, 6]])"
      ]
     },
     "execution_count": 10,
     "metadata": {},
     "output_type": "execute_result"
    }
   ],
   "source": [
    "list_of_lists_2 =[[1,2],[3,4],[5,6]]\n",
    "array_3 = np.array(list_of_lists_2)\n",
    "print(array_3.shape)\n",
    "array_3"
   ]
  },
  {
   "cell_type": "markdown",
   "id": "b1aec89d",
   "metadata": {},
   "source": [
    "### Creating array"
   ]
  },
  {
   "cell_type": "code",
   "execution_count": 11,
   "id": "978b88e8",
   "metadata": {},
   "outputs": [
    {
     "name": "stdout",
     "output_type": "stream",
     "text": [
      "[0. 0. 0. 0. 0. 0. 0. 0.]\n",
      "[[0. 0.]\n",
      " [0. 0.]\n",
      " [0. 0.]]\n"
     ]
    }
   ],
   "source": [
    "# np.zeros\n",
    "print(np.zeros(8)) #1D\n",
    "print(np.zeros([3,2])) #2D"
   ]
  },
  {
   "cell_type": "code",
   "execution_count": 12,
   "id": "7f7f2248",
   "metadata": {},
   "outputs": [
    {
     "name": "stdout",
     "output_type": "stream",
     "text": [
      "[1. 1. 1. 1.]\n",
      "[[1. 1.]\n",
      " [1. 1.]\n",
      " [1. 1.]\n",
      " [1. 1.]]\n"
     ]
    }
   ],
   "source": [
    "# np.ones\n",
    "print(np.ones(4))\n",
    "print(np.ones([4,2]))"
   ]
  },
  {
   "cell_type": "code",
   "execution_count": 13,
   "id": "b4a80009",
   "metadata": {},
   "outputs": [
    {
     "data": {
      "text/plain": [
       "array([[0., 0.],\n",
       "       [0., 0.],\n",
       "       [0., 0.]])"
      ]
     },
     "execution_count": 13,
     "metadata": {},
     "output_type": "execute_result"
    }
   ],
   "source": [
    "# np.empty\n",
    "np.empty(5)\n",
    "np.empty((3,2))"
   ]
  },
  {
   "cell_type": "code",
   "execution_count": 14,
   "id": "7abb965b",
   "metadata": {},
   "outputs": [
    {
     "name": "stdout",
     "output_type": "stream",
     "text": [
      "[0 1 2 3 4 5 6 7 8 9]\n",
      "[0 2 4 6 8]\n"
     ]
    }
   ],
   "source": [
    "# np.arange\n",
    "print(np.arange(10))\n",
    "print(np.arange(0,10,2)) #(start,stop,step)"
   ]
  },
  {
   "cell_type": "code",
   "execution_count": 15,
   "id": "7687fa19",
   "metadata": {},
   "outputs": [
    {
     "data": {
      "text/plain": [
       "array([ 0,  4,  8, 12, 16, 20, 24, 28])"
      ]
     },
     "execution_count": 15,
     "metadata": {},
     "output_type": "execute_result"
    }
   ],
   "source": [
    "\n",
    "np.arange(0,30,4)"
   ]
  },
  {
   "cell_type": "code",
   "execution_count": 16,
   "id": "f6b0872a",
   "metadata": {},
   "outputs": [
    {
     "name": "stdout",
     "output_type": "stream",
     "text": [
      "[ 1  2  3  4  3  2  1  5  6  7  8  9 10 11]\n",
      "[1 2 4 3 2 1 5 6 7 8 9]\n",
      "[1 1 2 2 3 3 4 5 6 7 8 9]\n"
     ]
    }
   ],
   "source": [
    "c = np.array([1,2,3,4,3,2,1,5,6,7,8,9])\n",
    "\n",
    "#append\n",
    "print(np.append(c,[10,11]))\n",
    "#delete\n",
    "print(np.delete(c,2))\n",
    "#sort\n",
    "print(np.sort(c))"
   ]
  },
  {
   "cell_type": "code",
   "execution_count": 17,
   "id": "b05eca88",
   "metadata": {},
   "outputs": [
    {
     "data": {
      "text/plain": [
       "array([[0., 0.],\n",
       "       [0., 0.]])"
      ]
     },
     "execution_count": 17,
     "metadata": {},
     "output_type": "execute_result"
    }
   ],
   "source": [
    "np.zeros((2,2))"
   ]
  },
  {
   "cell_type": "code",
   "execution_count": 18,
   "id": "f2af8a48",
   "metadata": {},
   "outputs": [
    {
     "name": "stdout",
     "output_type": "stream",
     "text": [
      "[[1 2 3 4 5 6 7 8]]\n"
     ]
    }
   ],
   "source": [
    "array_3 = np.array([[1,2,3,4]])\n",
    "array_4 = np.array([[5,6,7,8]])\n",
    "np.vstack([array_3,array_4])\n",
    "print(np.hstack([array_3,array_4]))"
   ]
  },
  {
   "cell_type": "code",
   "execution_count": 19,
   "id": "91704389",
   "metadata": {},
   "outputs": [
    {
     "name": "stdout",
     "output_type": "stream",
     "text": [
      "[[3]\n",
      " [4]\n",
      " [5]\n",
      " [6]\n",
      " [7]\n",
      " [8]\n",
      " [9]]\n",
      "(7, 1)\n",
      "[[3 4 5 6 7 8 9]]\n",
      "(1, 7)\n"
     ]
    }
   ],
   "source": [
    "#np.expand_dims\n",
    "array_7 = np.array([3,4,5,6,7,8,9])\n",
    "array_8 = np.expand_dims(array_7,axis=1)\n",
    "array_9 = np.expand_dims(array_7,axis=0)\n",
    "print(array_8)\n",
    "print(array_8.shape)\n",
    "print(array_9)\n",
    "print(array_9.shape)"
   ]
  },
  {
   "cell_type": "markdown",
   "id": "5eee522a",
   "metadata": {},
   "source": [
    "### Operasi Matematika pada array sifatnya broadcast"
   ]
  },
  {
   "cell_type": "code",
   "execution_count": 20,
   "id": "8b051595",
   "metadata": {},
   "outputs": [
    {
     "data": {
      "text/plain": [
       "array([ 6,  8, 10, 12, 14, 16, 18])"
      ]
     },
     "execution_count": 20,
     "metadata": {},
     "output_type": "execute_result"
    }
   ],
   "source": [
    "array_7 = np.array([3,4,5,6,7,8,9])\n",
    "array_7*2"
   ]
  },
  {
   "cell_type": "code",
   "execution_count": 21,
   "id": "16618680",
   "metadata": {},
   "outputs": [
    {
     "data": {
      "text/plain": [
       "array([[-3, -2, -1],\n",
       "       [ 0,  1,  2]])"
      ]
     },
     "execution_count": 21,
     "metadata": {},
     "output_type": "execute_result"
    }
   ],
   "source": [
    "array_10 = np.array([[1,2,3],[4,5,6]])\n",
    "array_10-4"
   ]
  },
  {
   "cell_type": "markdown",
   "id": "5b03108b",
   "metadata": {},
   "source": [
    "### Filtering Array "
   ]
  },
  {
   "cell_type": "code",
   "execution_count": 22,
   "id": "5ab68b44",
   "metadata": {},
   "outputs": [
    {
     "name": "stdout",
     "output_type": "stream",
     "text": [
      "[6 7 8 9]\n",
      "[8]\n",
      "[3 4]\n"
     ]
    }
   ],
   "source": [
    "array_7 = np.array([3,4,5,6,7,8,9])\n",
    "print(array_7[array_7>5])\n",
    "print(array_7[array_7==8])\n",
    "print(array_7[array_7<=4])"
   ]
  },
  {
   "cell_type": "code",
   "execution_count": 23,
   "id": "25d08f1f",
   "metadata": {},
   "outputs": [
    {
     "name": "stdout",
     "output_type": "stream",
     "text": [
      "[ 7  8  9 10]\n"
     ]
    }
   ],
   "source": [
    "array_11 = np.array([[3,5,7],[8,9,10],[-1,-2,-3]])\n",
    "array_11.shape\n",
    "print(array_11[array_11>5])"
   ]
  },
  {
   "cell_type": "markdown",
   "id": "76845ca7",
   "metadata": {},
   "source": [
    "### hstack, vstack, hsplit, vsplit"
   ]
  },
  {
   "cell_type": "code",
   "execution_count": 24,
   "id": "819f77a2",
   "metadata": {},
   "outputs": [
    {
     "name": "stdout",
     "output_type": "stream",
     "text": [
      "Stack secara Vertikal\n",
      "[[ 3  4  5  6  7]\n",
      " [ 7  8  9 10 11]]\n",
      "Stack secara Horizontal\n",
      "[ 3  4  5  6  7  7  8  9 10 11]\n"
     ]
    }
   ],
   "source": [
    "#stack\n",
    "array_14 = np.array([3,4,5,6,7])\n",
    "array_15 = np.array([7,8,9,10,11])\n",
    "print('Stack secara Vertikal')\n",
    "print(np.vstack([array_14,array_15]))\n",
    "print('Stack secara Horizontal')\n",
    "print(np.hstack([array_14,array_15]))"
   ]
  },
  {
   "cell_type": "code",
   "execution_count": 25,
   "id": "4401be0e",
   "metadata": {},
   "outputs": [
    {
     "data": {
      "text/plain": [
       "[array([3, 4, 5]), array([6, 7, 8])]"
      ]
     },
     "execution_count": 25,
     "metadata": {},
     "output_type": "execute_result"
    }
   ],
   "source": [
    "#hsplit\n",
    "array_16 = np.array([3,4,5,6,7,8])\n",
    "array_split = np.hsplit(array_16,2)\n",
    "(array_split)"
   ]
  },
  {
   "cell_type": "code",
   "execution_count": 26,
   "id": "48685dae",
   "metadata": {},
   "outputs": [
    {
     "name": "stdout",
     "output_type": "stream",
     "text": [
      "(2, 4)\n",
      "Horizontal Split\n",
      "[array([[1, 2],\n",
      "       [4, 5]]), array([[3, 4],\n",
      "       [6, 7]])]\n",
      "Vertical Split\n",
      "[array([[1, 2, 3, 4]]), array([[4, 5, 6, 7]])]\n"
     ]
    }
   ],
   "source": [
    "#vsplit\n",
    "array_19 = np.array([[1,2,3,4],[4,5,6,7]])\n",
    "print(array_19.shape)\n",
    "print('Horizontal Split')\n",
    "print(np.hsplit(array_19,2))\n",
    "print('Vertical Split')\n",
    "print(np.vsplit(array_19,2))"
   ]
  },
  {
   "cell_type": "code",
   "execution_count": 27,
   "id": "2bb9df9d",
   "metadata": {},
   "outputs": [
    {
     "name": "stdout",
     "output_type": "stream",
     "text": [
      "(2, 6)\n",
      "Horizontal Split\n",
      "[array([[1, 2],\n",
      "       [4, 5]]), array([[3, 4],\n",
      "       [6, 7]]), array([[5, 6],\n",
      "       [5, 6]])]\n",
      "Vertical Split\n"
     ]
    },
    {
     "ename": "ValueError",
     "evalue": "array split does not result in an equal division",
     "output_type": "error",
     "traceback": [
      "\u001b[1;31m---------------------------------------------------------------------------\u001b[0m",
      "\u001b[1;31mValueError\u001b[0m                                Traceback (most recent call last)",
      "\u001b[1;32m~\\AppData\\Local\\Temp\\ipykernel_33216\\2030098379.py\u001b[0m in \u001b[0;36m<module>\u001b[1;34m\u001b[0m\n\u001b[0;32m      5\u001b[0m \u001b[0mprint\u001b[0m\u001b[1;33m(\u001b[0m\u001b[0mnp\u001b[0m\u001b[1;33m.\u001b[0m\u001b[0mhsplit\u001b[0m\u001b[1;33m(\u001b[0m\u001b[0marray_19\u001b[0m\u001b[1;33m,\u001b[0m\u001b[1;36m3\u001b[0m\u001b[1;33m)\u001b[0m\u001b[1;33m)\u001b[0m\u001b[1;33m\u001b[0m\u001b[1;33m\u001b[0m\u001b[0m\n\u001b[0;32m      6\u001b[0m \u001b[0mprint\u001b[0m\u001b[1;33m(\u001b[0m\u001b[1;34m'Vertical Split'\u001b[0m\u001b[1;33m)\u001b[0m\u001b[1;33m\u001b[0m\u001b[1;33m\u001b[0m\u001b[0m\n\u001b[1;32m----> 7\u001b[1;33m \u001b[0mprint\u001b[0m\u001b[1;33m(\u001b[0m\u001b[0mnp\u001b[0m\u001b[1;33m.\u001b[0m\u001b[0mvsplit\u001b[0m\u001b[1;33m(\u001b[0m\u001b[0marray_19\u001b[0m\u001b[1;33m,\u001b[0m\u001b[1;36m3\u001b[0m\u001b[1;33m)\u001b[0m\u001b[1;33m)\u001b[0m\u001b[1;33m\u001b[0m\u001b[1;33m\u001b[0m\u001b[0m\n\u001b[0m",
      "\u001b[1;32m<__array_function__ internals>\u001b[0m in \u001b[0;36mvsplit\u001b[1;34m(*args, **kwargs)\u001b[0m\n",
      "\u001b[1;32m~\\anaconda3\\lib\\site-packages\\numpy\\lib\\shape_base.py\u001b[0m in \u001b[0;36mvsplit\u001b[1;34m(ary, indices_or_sections)\u001b[0m\n\u001b[0;32m    989\u001b[0m     \u001b[1;32mif\u001b[0m \u001b[0m_nx\u001b[0m\u001b[1;33m.\u001b[0m\u001b[0mndim\u001b[0m\u001b[1;33m(\u001b[0m\u001b[0mary\u001b[0m\u001b[1;33m)\u001b[0m \u001b[1;33m<\u001b[0m \u001b[1;36m2\u001b[0m\u001b[1;33m:\u001b[0m\u001b[1;33m\u001b[0m\u001b[1;33m\u001b[0m\u001b[0m\n\u001b[0;32m    990\u001b[0m         \u001b[1;32mraise\u001b[0m \u001b[0mValueError\u001b[0m\u001b[1;33m(\u001b[0m\u001b[1;34m'vsplit only works on arrays of 2 or more dimensions'\u001b[0m\u001b[1;33m)\u001b[0m\u001b[1;33m\u001b[0m\u001b[1;33m\u001b[0m\u001b[0m\n\u001b[1;32m--> 991\u001b[1;33m     \u001b[1;32mreturn\u001b[0m \u001b[0msplit\u001b[0m\u001b[1;33m(\u001b[0m\u001b[0mary\u001b[0m\u001b[1;33m,\u001b[0m \u001b[0mindices_or_sections\u001b[0m\u001b[1;33m,\u001b[0m \u001b[1;36m0\u001b[0m\u001b[1;33m)\u001b[0m\u001b[1;33m\u001b[0m\u001b[1;33m\u001b[0m\u001b[0m\n\u001b[0m\u001b[0;32m    992\u001b[0m \u001b[1;33m\u001b[0m\u001b[0m\n\u001b[0;32m    993\u001b[0m \u001b[1;33m\u001b[0m\u001b[0m\n",
      "\u001b[1;32m<__array_function__ internals>\u001b[0m in \u001b[0;36msplit\u001b[1;34m(*args, **kwargs)\u001b[0m\n",
      "\u001b[1;32m~\\anaconda3\\lib\\site-packages\\numpy\\lib\\shape_base.py\u001b[0m in \u001b[0;36msplit\u001b[1;34m(ary, indices_or_sections, axis)\u001b[0m\n\u001b[0;32m    870\u001b[0m         \u001b[0mN\u001b[0m \u001b[1;33m=\u001b[0m \u001b[0mary\u001b[0m\u001b[1;33m.\u001b[0m\u001b[0mshape\u001b[0m\u001b[1;33m[\u001b[0m\u001b[0maxis\u001b[0m\u001b[1;33m]\u001b[0m\u001b[1;33m\u001b[0m\u001b[1;33m\u001b[0m\u001b[0m\n\u001b[0;32m    871\u001b[0m         \u001b[1;32mif\u001b[0m \u001b[0mN\u001b[0m \u001b[1;33m%\u001b[0m \u001b[0msections\u001b[0m\u001b[1;33m:\u001b[0m\u001b[1;33m\u001b[0m\u001b[1;33m\u001b[0m\u001b[0m\n\u001b[1;32m--> 872\u001b[1;33m             raise ValueError(\n\u001b[0m\u001b[0;32m    873\u001b[0m                 'array split does not result in an equal division') from None\n\u001b[0;32m    874\u001b[0m     \u001b[1;32mreturn\u001b[0m \u001b[0marray_split\u001b[0m\u001b[1;33m(\u001b[0m\u001b[0mary\u001b[0m\u001b[1;33m,\u001b[0m \u001b[0mindices_or_sections\u001b[0m\u001b[1;33m,\u001b[0m \u001b[0maxis\u001b[0m\u001b[1;33m)\u001b[0m\u001b[1;33m\u001b[0m\u001b[1;33m\u001b[0m\u001b[0m\n",
      "\u001b[1;31mValueError\u001b[0m: array split does not result in an equal division"
     ]
    }
   ],
   "source": [
    "#vsplit\n",
    "array_19 = np.array([[1,2,3,4,5,6],[4,5,6,7,5,6]])\n",
    "print(array_19.shape)\n",
    "print('Horizontal Split')\n",
    "print(np.hsplit(array_19,3))\n",
    "print('Vertical Split')\n",
    "print(np.vsplit(array_19,3))"
   ]
  },
  {
   "cell_type": "markdown",
   "id": "b66cac46",
   "metadata": {},
   "source": [
    "### Operasi Aritmetik antar 2 array"
   ]
  },
  {
   "cell_type": "code",
   "execution_count": 28,
   "id": "d24288ab",
   "metadata": {},
   "outputs": [
    {
     "name": "stdout",
     "output_type": "stream",
     "text": [
      "[4 6 8]\n"
     ]
    }
   ],
   "source": [
    "array_a = np.array([1,2,3])\n",
    "array_b = np.array([3,4,5])\n",
    "print(array_a+array_b)"
   ]
  },
  {
   "cell_type": "code",
   "execution_count": 29,
   "id": "26affe78",
   "metadata": {},
   "outputs": [
    {
     "name": "stdout",
     "output_type": "stream",
     "text": [
      "[[-5 -5 -5]\n",
      " [-5 -5 -5]]\n"
     ]
    }
   ],
   "source": [
    "array_c = np.array([[1,2,3],[4,5,6]])\n",
    "array_d = np.array([[6,7,8],[9,10,11]])\n",
    "print(array_c-array_d)"
   ]
  },
  {
   "cell_type": "code",
   "execution_count": 30,
   "id": "773f3189",
   "metadata": {},
   "outputs": [
    {
     "name": "stdout",
     "output_type": "stream",
     "text": [
      "6\n",
      "21\n",
      "[5 7 9]\n"
     ]
    }
   ],
   "source": [
    "array_a = np.array([1,2,3])\n",
    "array_b = np.array([3,4,5])\n",
    "array_c = np.array([[1,2,3],[4,5,6]])\n",
    "array_d = np.array([[6,7,8],[9,10,11]])\n",
    "print(array_a.sum())\n",
    "print(array_c.sum())\n",
    "print(array_c.sum(axis=0))"
   ]
  },
  {
   "cell_type": "markdown",
   "id": "d873bcab",
   "metadata": {},
   "source": [
    "### Transposing "
   ]
  },
  {
   "cell_type": "code",
   "execution_count": 31,
   "id": "92f53810",
   "metadata": {},
   "outputs": [
    {
     "name": "stdout",
     "output_type": "stream",
     "text": [
      "[[5 2 3]\n",
      " [4 5 6]]\n",
      "(2, 3)\n"
     ]
    }
   ],
   "source": [
    "array_c = np.array([[5,2,3],[4,5,6]])\n",
    "print(array_c)\n",
    "print(array_c.shape)"
   ]
  },
  {
   "cell_type": "code",
   "execution_count": 32,
   "id": "b0466d6d",
   "metadata": {},
   "outputs": [
    {
     "name": "stdout",
     "output_type": "stream",
     "text": [
      "[[ 1  2  3  4  5]\n",
      " [ 4  5  6  7  8]\n",
      " [ 7  8  9 10 11]]\n",
      "(3, 5)\n"
     ]
    }
   ],
   "source": [
    "array_d = np.array([[1,2,3,4,5],[4,5,6,7,8],[7,8,9,10,11]])\n",
    "print(array_d)\n",
    "print(array_d.shape)"
   ]
  },
  {
   "cell_type": "code",
   "execution_count": 33,
   "id": "c3c683d4",
   "metadata": {},
   "outputs": [
    {
     "name": "stdout",
     "output_type": "stream",
     "text": [
      "[[ 1  4  7]\n",
      " [ 2  5  8]\n",
      " [ 3  6  9]\n",
      " [ 4  7 10]\n",
      " [ 5  8 11]]\n",
      "(5, 3)\n"
     ]
    }
   ],
   "source": [
    "array_d = np.array([[1,2,3,4,5],[4,5,6,7,8],[7,8,9,10,11]])\n",
    "print(array_d.T)\n",
    "print(array_d.T.shape)"
   ]
  },
  {
   "cell_type": "code",
   "execution_count": 34,
   "id": "2752550b",
   "metadata": {},
   "outputs": [
    {
     "name": "stdout",
     "output_type": "stream",
     "text": [
      "[[15.00335215 40.21344156]\n",
      " [52.01496651 68.19213027]\n",
      " [ 5.61430043  6.27025823]]\n"
     ]
    }
   ],
   "source": [
    "array_random = np.random.random([3,2])*100\n",
    "print(array_random)"
   ]
  },
  {
   "cell_type": "markdown",
   "id": "514878dd",
   "metadata": {},
   "source": [
    "### Numpy Math formulas"
   ]
  },
  {
   "cell_type": "code",
   "execution_count": 35,
   "id": "3ffc54a8",
   "metadata": {},
   "outputs": [
    {
     "name": "stdout",
     "output_type": "stream",
     "text": [
      "[[92.57054922 58.60220171]\n",
      " [64.10153522 65.23007488]\n",
      " [28.56968721 36.73264766]]\n"
     ]
    },
    {
     "data": {
      "text/plain": [
       "345.8066958921387"
      ]
     },
     "execution_count": 35,
     "metadata": {},
     "output_type": "execute_result"
    }
   ],
   "source": [
    "array_random = np.random.random([3,2])*100\n",
    "print(array_random)\n",
    "np.sum(array_random)"
   ]
  },
  {
   "cell_type": "code",
   "execution_count": 36,
   "id": "713ae968",
   "metadata": {},
   "outputs": [
    {
     "data": {
      "text/plain": [
       "81"
      ]
     },
     "execution_count": 36,
     "metadata": {},
     "output_type": "execute_result"
    }
   ],
   "source": [
    "np.square(9)"
   ]
  },
  {
   "cell_type": "code",
   "execution_count": 37,
   "id": "c47edd6b",
   "metadata": {},
   "outputs": [
    {
     "data": {
      "text/plain": [
       "3.0"
      ]
     },
     "execution_count": 37,
     "metadata": {},
     "output_type": "execute_result"
    }
   ],
   "source": [
    "np.sqrt(9)"
   ]
  },
  {
   "cell_type": "code",
   "execution_count": 38,
   "id": "a09ace4e",
   "metadata": {},
   "outputs": [
    {
     "name": "stdout",
     "output_type": "stream",
     "text": [
      "13.815510557964274\n"
     ]
    }
   ],
   "source": [
    "a = np.log(1000000)\n",
    "print(a)"
   ]
  },
  {
   "cell_type": "code",
   "execution_count": 39,
   "id": "566cdfa4",
   "metadata": {},
   "outputs": [
    {
     "data": {
      "text/plain": [
       "999999.9999999995"
      ]
     },
     "execution_count": 39,
     "metadata": {},
     "output_type": "execute_result"
    }
   ],
   "source": [
    "np.exp(a)"
   ]
  },
  {
   "cell_type": "markdown",
   "id": "9636f361",
   "metadata": {},
   "source": [
    "### Prime Number Generator Based on Interval"
   ]
  },
  {
   "cell_type": "code",
   "execution_count": 40,
   "id": "644533db",
   "metadata": {},
   "outputs": [
    {
     "name": "stdout",
     "output_type": "stream",
     "text": [
      "saadfs \n",
      " fdf\n"
     ]
    }
   ],
   "source": [
    "\n",
    "print('saadfs \\n fdf')"
   ]
  },
  {
   "cell_type": "code",
   "execution_count": 41,
   "id": "147e7b19",
   "metadata": {},
   "outputs": [
    {
     "name": "stdout",
     "output_type": "stream",
     "text": [
      "0\n",
      "1\n",
      "2\n",
      "3\n",
      "4\n"
     ]
    }
   ],
   "source": [
    "for i in range(5):\n",
    "    print(i)"
   ]
  },
  {
   "cell_type": "code",
   "execution_count": 42,
   "id": "a496c42e",
   "metadata": {},
   "outputs": [],
   "source": [
    "import numpy as np\n",
    "a = np.array([3,2,1])"
   ]
  },
  {
   "cell_type": "code",
   "execution_count": 43,
   "id": "ea85046c",
   "metadata": {},
   "outputs": [
    {
     "data": {
      "text/plain": [
       "3"
      ]
     },
     "execution_count": 43,
     "metadata": {},
     "output_type": "execute_result"
    }
   ],
   "source": [
    "a[0]"
   ]
  },
  {
   "cell_type": "code",
   "execution_count": 44,
   "id": "998eb767",
   "metadata": {},
   "outputs": [
    {
     "data": {
      "text/plain": [
       "array([[0.e+000, 1.e-323],\n",
       "       [2.e-323, 3.e-323]])"
      ]
     },
     "execution_count": 44,
     "metadata": {},
     "output_type": "execute_result"
    }
   ],
   "source": [
    "np.empty((2,2))"
   ]
  },
  {
   "cell_type": "code",
   "execution_count": 45,
   "id": "e935e51f",
   "metadata": {},
   "outputs": [
    {
     "data": {
      "text/plain": [
       "array([0, 2, 4, 6])"
      ]
     },
     "execution_count": 45,
     "metadata": {},
     "output_type": "execute_result"
    }
   ],
   "source": [
    "np.arange(0,7,2)"
   ]
  },
  {
   "cell_type": "markdown",
   "id": "9a940ee8",
   "metadata": {},
   "source": [
    "### Bilangan prima adalah bilangan yang hanya bisa dibagi 1 dan dirinya sendiri"
   ]
  },
  {
   "cell_type": "code",
   "execution_count": 46,
   "id": "633e7317",
   "metadata": {},
   "outputs": [
    {
     "name": "stdout",
     "output_type": "stream",
     "text": [
      "Lower Limit :4\n",
      "Upper Limit :6\n",
      "4 sampai 6\n",
      "5\n"
     ]
    }
   ],
   "source": [
    "lower_limit = int(input('Lower Limit :'))\n",
    "upper_limit = int(input(\"Upper Limit :\"))\n",
    "print(lower_limit, 'sampai',upper_limit)\n",
    "for num in range(lower_limit,upper_limit+1):\n",
    "    if num > 1:\n",
    "        for i in range(2,num):#Filtering buat bilangan prima\n",
    "            if (num%i)==0:\n",
    "                break \n",
    "        else:\n",
    "            print(num) #untuk kita dapat bilangan prima kondisi (num%i)==0 harus dilanggar"
   ]
  },
  {
   "cell_type": "code",
   "execution_count": 47,
   "id": "93cf7c9a",
   "metadata": {},
   "outputs": [
    {
     "data": {
      "text/plain": [
       "1"
      ]
     },
     "execution_count": 47,
     "metadata": {},
     "output_type": "execute_result"
    }
   ],
   "source": [
    "7%2"
   ]
  },
  {
   "cell_type": "code",
   "execution_count": null,
   "id": "8e6a2dc1",
   "metadata": {},
   "outputs": [],
   "source": []
  }
 ],
 "metadata": {
  "kernelspec": {
   "display_name": "Python 3 (ipykernel)",
   "language": "python",
   "name": "python3"
  },
  "language_info": {
   "codemirror_mode": {
    "name": "ipython",
    "version": 3
   },
   "file_extension": ".py",
   "mimetype": "text/x-python",
   "name": "python",
   "nbconvert_exporter": "python",
   "pygments_lexer": "ipython3",
   "version": "3.9.13"
  }
 },
 "nbformat": 4,
 "nbformat_minor": 5
}
